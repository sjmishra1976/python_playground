{
 "cells": [
  {
   "cell_type": "code",
   "execution_count": 12,
   "id": "866f5db1-b85f-4ba4-ad34-e33250874a64",
   "metadata": {},
   "outputs": [
    {
     "name": "stdout",
     "output_type": "stream",
     "text": [
      "FirstCust\n",
      "FavCust\n",
      "LoyalCust\n",
      "ForLifeCust\n",
      "GoodCust\n"
     ]
    }
   ],
   "source": [
    "\n",
    "#list - List items are ordered, changeable, and allow duplicate values.\n",
    "customers1 = [\"FirstCust\",\"FavCust\",\"LoyalCust\",\"ForLifeCust\",\"GoodCust\"]\n",
    "for cust in customers1:\n",
    "    print (cust)"
   ]
  },
  {
   "cell_type": "code",
   "execution_count": 6,
   "id": "a96f2120-4bd9-45d0-bfed-dbea88e40582",
   "metadata": {},
   "outputs": [
    {
     "name": "stdout",
     "output_type": "stream",
     "text": [
      "FirstCust\n",
      "FavCust\n",
      "LoyalCust\n",
      "ForLifeCust\n"
     ]
    }
   ],
   "source": [
    "customers2 = list((\"FirstCust\",\"FavCust\",\"LoyalCust\",\"ForLifeCust\"))\n",
    "for cust in customers2:\n",
    "    print (cust)"
   ]
  },
  {
   "cell_type": "code",
   "execution_count": 8,
   "id": "6d463aac-15a3-4c39-bb79-1d60bfb25160",
   "metadata": {},
   "outputs": [
    {
     "name": "stdout",
     "output_type": "stream",
     "text": [
      "LoyalCust\n"
     ]
    }
   ],
   "source": [
    "print(customers1[2])"
   ]
  },
  {
   "cell_type": "code",
   "execution_count": 14,
   "id": "6273bac5-4873-4a3e-b323-29d2cbf98970",
   "metadata": {},
   "outputs": [
    {
     "name": "stdout",
     "output_type": "stream",
     "text": [
      "['FavCust', 'LoyalCust', 'ForLifeCust']\n"
     ]
    }
   ],
   "source": [
    "\n",
    "#This will return the items from index 1, 2 , 3 excluding index 4.\n",
    "\n",
    "print (customers1[1:4])"
   ]
  },
  {
   "cell_type": "code",
   "execution_count": 16,
   "id": "63f1b79d-fda0-4a85-81d8-a6a0788ff984",
   "metadata": {},
   "outputs": [
    {
     "name": "stdout",
     "output_type": "stream",
     "text": [
      "['FirstCust', 'FavCust']\n"
     ]
    }
   ],
   "source": [
    "#This will return the items from index 0 to index 2.\n",
    "\n",
    "#Remember that index 0 is the first item, and index 1 is the second item\n",
    "#Remember that the item in index 2 is NOT included\n",
    "print (customers1[:2])"
   ]
  },
  {
   "cell_type": "code",
   "execution_count": 18,
   "id": "400e701c-4d96-469d-8cbb-59ef99e69435",
   "metadata": {},
   "outputs": [
    {
     "name": "stdout",
     "output_type": "stream",
     "text": [
      "['FirstCust', 'FavCust', 'DailyCustomer', 'ForLifeCust', 'GoodCust']\n"
     ]
    }
   ],
   "source": [
    "#replace a item\n",
    "customers1[2] = \"DailyCustomer\"\n",
    "print(customers1)"
   ]
  },
  {
   "cell_type": "code",
   "execution_count": 19,
   "id": "006c9e94-cccc-48af-8916-77751ab462e1",
   "metadata": {},
   "outputs": [
    {
     "name": "stdout",
     "output_type": "stream",
     "text": [
      "['FirstCust', 'FavCust', 'DailyCustomer', 'ForLifeCust', 'GoodCust', 'NewCustomer']\n"
     ]
    }
   ],
   "source": [
    "#add a item\n",
    "customers1.append(\"NewCustomer\")\n",
    "print(customers1)"
   ]
  },
  {
   "cell_type": "code",
   "execution_count": 20,
   "id": "d3b47592-d9e0-4fcb-9926-b256a90b96a4",
   "metadata": {},
   "outputs": [
    {
     "name": "stdout",
     "output_type": "stream",
     "text": [
      "['FirstCust', 'DailyCustomer', 'ForLifeCust', 'GoodCust', 'NewCustomer']\n",
      "['FirstCust', 'DailyCustomer', 'ForLifeCust', 'NewCustomer']\n"
     ]
    }
   ],
   "source": [
    "#remove a item by value\n",
    "customers1.remove(\"FavCust\")\n",
    "print(customers1)\n",
    "\n",
    "#remove a item by index\n",
    "customers1.pop(3)\n",
    "print(customers1)\n",
    "\n"
   ]
  },
  {
   "cell_type": "code",
   "execution_count": 22,
   "id": "9fb5f3fd-c2ca-4fb6-b3c9-6f5586e1b800",
   "metadata": {},
   "outputs": [
    {
     "name": "stdout",
     "output_type": "stream",
     "text": [
      "['ForLifeCust', 'NewCustomer']\n"
     ]
    }
   ],
   "source": [
    "# dele keyword to delete using index\n",
    "del customers1[0]\n",
    "print(customers1)"
   ]
  },
  {
   "cell_type": "code",
   "execution_count": 24,
   "id": "e82605ae-5ab5-42e3-a1dd-815f40fd1b7f",
   "metadata": {},
   "outputs": [
    {
     "ename": "NameError",
     "evalue": "name 'customers1' is not defined",
     "output_type": "error",
     "traceback": [
      "\u001b[0;31m---------------------------------------------------------------------------\u001b[0m",
      "\u001b[0;31mNameError\u001b[0m                                 Traceback (most recent call last)",
      "Cell \u001b[0;32mIn[24], line 1\u001b[0m\n\u001b[0;32m----> 1\u001b[0m \u001b[38;5;28;01mdel\u001b[39;00m customers1 \u001b[38;5;66;03m# delete fulllist\u001b[39;00m\n\u001b[1;32m      2\u001b[0m \u001b[38;5;28mprint\u001b[39m(customers1)\n",
      "\u001b[0;31mNameError\u001b[0m: name 'customers1' is not defined"
     ]
    }
   ],
   "source": [
    "del customers1 # delete fulllist\n",
    "print(customers1)"
   ]
  },
  {
   "cell_type": "code",
   "execution_count": 37,
   "id": "e1be5475-c83b-478b-8e24-7ee2d8dc9750",
   "metadata": {},
   "outputs": [
    {
     "name": "stdout",
     "output_type": "stream",
     "text": [
      "FirstCust\n",
      "FavCust\n",
      "LoyalCust\n",
      "ForLifeCust\n",
      "GoodCust\n",
      "Loyal Customer Present in List\n"
     ]
    }
   ],
   "source": [
    "customers1 = [\"FirstCust\",\"FavCust\",\"LoyalCust\",\"ForLifeCust\",\"GoodCust\"]\n",
    "# iterate using index and range\n",
    "for i in range(len(customers1)):\n",
    "    print (customers1[i])\n",
    "\n",
    "if \"LoyalCust\" in  customers1:\n",
    "    print(\"Loyal Customer Present in List\")"
   ]
  },
  {
   "cell_type": "code",
   "execution_count": 27,
   "id": "98bd8f3c-f56c-4f0a-b531-6293fcb95c27",
   "metadata": {},
   "outputs": [
    {
     "name": "stdout",
     "output_type": "stream",
     "text": [
      "[4, 5, 10, 15, 20, 21, 22, 24, 30, 31]\n"
     ]
    }
   ],
   "source": [
    "mylist1 = [30,20,10,15,5,4,31,21,22,24]\n",
    "mylist1.sort()\n",
    "print (mylist1)"
   ]
  },
  {
   "cell_type": "code",
   "execution_count": 29,
   "id": "202ccb86-790d-4c06-8818-e50e34e6d567",
   "metadata": {},
   "outputs": [
    {
     "name": "stdout",
     "output_type": "stream",
     "text": [
      "[31, 30, 24, 22, 21, 20, 15, 10, 5, 4]\n"
     ]
    }
   ],
   "source": [
    "mylist1.sort(reverse=True)\n",
    "print (mylist1)"
   ]
  },
  {
   "cell_type": "code",
   "execution_count": 30,
   "id": "3b7f2e53-35d9-4c8e-8fb6-74a8eddec71b",
   "metadata": {},
   "outputs": [
    {
     "name": "stdout",
     "output_type": "stream",
     "text": [
      "[50, 49, 60, 31, 24, 22, 21, 15, 5, 4]\n"
     ]
    }
   ],
   "source": [
    "#return number closet to 50\n",
    "def myComp(num):\n",
    "    return abs(num -50)\n",
    "\n",
    "mylist2 = [60,50,49,15,5,4,31,21,22,24]\n",
    "mylist2.sort(key=myComp)\n",
    "print(mylist2)\n",
    "    "
   ]
  },
  {
   "cell_type": "code",
   "execution_count": 32,
   "id": "8b3daf23-f6c7-4692-a74f-9c740c0e52c9",
   "metadata": {},
   "outputs": [
    {
     "name": "stdout",
     "output_type": "stream",
     "text": [
      "{'apple', 'cherry', 'banana'}\n",
      "apple\n",
      "cherry\n",
      "banana\n"
     ]
    }
   ],
   "source": [
    "#set - A set is a collection which is unordered, unchangeable*, and unindexed. Once a set is created, you cannot change its items, but you can add new items.\n",
    "myset = {\"apple\", \"banana\", \"cherry\"}\n",
    "print (myset)\n",
    "\n",
    "for x in myset:\n",
    "  print(x)"
   ]
  },
  {
   "cell_type": "code",
   "execution_count": 33,
   "id": "07c4546d-2d93-40ab-91c3-37e3a67f5c6e",
   "metadata": {},
   "outputs": [
    {
     "name": "stdout",
     "output_type": "stream",
     "text": [
      "('apple', 'banana', 'cherry')\n"
     ]
    }
   ],
   "source": [
    "# tuple - A tuple is a collection which is ordered and unchangeable.Tuple items are indexed, the first item has index [0], the second item has index [1] etc.\n",
    "\n",
    "thistuple = (\"apple\", \"banana\", \"cherry\")\n",
    "print(thistuple)"
   ]
  },
  {
   "cell_type": "code",
   "execution_count": 34,
   "id": "8fb18fd6-41a3-43a1-a995-cbe3a1aa200f",
   "metadata": {},
   "outputs": [
    {
     "name": "stdout",
     "output_type": "stream",
     "text": [
      "('abc', 34, True, 40, 'male')\n"
     ]
    }
   ],
   "source": [
    "# A tuple with strings, integers and boolean values:\n",
    "tuple1 = (\"abc\", 34, True, 40, \"male\")\n",
    "print(tuple1)"
   ]
  },
  {
   "cell_type": "code",
   "execution_count": 35,
   "id": "e92dedf1-5a82-436f-8b34-986fd834f368",
   "metadata": {},
   "outputs": [
    {
     "name": "stdout",
     "output_type": "stream",
     "text": [
      "('cherry', 'orange', 'kiwi')\n"
     ]
    }
   ],
   "source": [
    "# Access tuple\n",
    "thistuple = (\"apple\", \"banana\", \"cherry\", \"orange\", \"kiwi\", \"melon\", \"mango\")\n",
    "print(thistuple[2:5])"
   ]
  },
  {
   "cell_type": "code",
   "execution_count": 38,
   "id": "46cdfa0c-08d2-4bf9-851d-ead8e87bdbaa",
   "metadata": {},
   "outputs": [
    {
     "name": "stdout",
     "output_type": "stream",
     "text": [
      "Yes, 'apple' is in the fruits tuple\n"
     ]
    }
   ],
   "source": [
    "# in clause for check in collection/tuple\n",
    "thistuple = (\"apple\", \"banana\", \"cherry\")\n",
    "if \"apple\" in thistuple:\n",
    "  print(\"Yes, 'apple' is in the fruits tuple\")"
   ]
  },
  {
   "cell_type": "code",
   "execution_count": 40,
   "id": "be8dfbc7-4469-4954-a2e4-c99e67cfdc56",
   "metadata": {},
   "outputs": [
    {
     "name": "stdout",
     "output_type": "stream",
     "text": [
      "{'brand': 'Ford', 'model': 'Mustang', 'year': 1964}\n",
      "Mustang\n"
     ]
    }
   ],
   "source": [
    "# Dictionaries are written with curly brackets, and have keys and values:\n",
    "# Dictionaries cannot have two items with the same key:\n",
    "thisdict = {\n",
    "  \"brand\": \"Ford\",\n",
    "  \"model\": \"Mustang\",\n",
    "  \"year\": 1964\n",
    "}\n",
    "print(thisdict)\n",
    "\n",
    "x = thisdict.get(\"model\")\n",
    "print(x)"
   ]
  },
  {
   "cell_type": "code",
   "execution_count": 42,
   "id": "2693bb79-3826-4088-bc59-497d9ff7d939",
   "metadata": {},
   "outputs": [
    {
     "name": "stdout",
     "output_type": "stream",
     "text": [
      "dict_keys(['brand', 'model', 'year'])\n",
      "dict_keys(['brand', 'model', 'year', 'color'])\n"
     ]
    }
   ],
   "source": [
    "# Add new keys\n",
    "x = thisdict.keys()\n",
    "\n",
    "print(x) #before the change\n",
    "\n",
    "thisdict[\"color\"] = \"white\"\n",
    "\n",
    "print(x) #after the change"
   ]
  },
  {
   "cell_type": "code",
   "execution_count": 45,
   "id": "e1d2439d-e31d-49d9-94bc-07aa9624a92a",
   "metadata": {},
   "outputs": [
    {
     "name": "stdout",
     "output_type": "stream",
     "text": [
      "dict_values(['Ford', 'Mustang', 2020, 'white'])\n",
      "dict_values(['Ford', 'Mustang', 2020, 'white'])\n"
     ]
    }
   ],
   "source": [
    "# Replace values to keys in dict\n",
    "x = thisdict.values()\n",
    "\n",
    "print(x) #before the change\n",
    "\n",
    "thisdict[\"year\"] = 2020\n",
    "\n",
    "print(x) #after the change"
   ]
  },
  {
   "cell_type": "raw",
   "id": "811169b1-41f4-429a-850b-7e35575366e8",
   "metadata": {},
   "source": [
    "\n"
   ]
  },
  {
   "cell_type": "code",
   "execution_count": 46,
   "id": "bba6bf2a-e28c-4fde-889a-181bb2de0e52",
   "metadata": {},
   "outputs": [
    {
     "name": "stdout",
     "output_type": "stream",
     "text": [
      "brand\n",
      "model\n",
      "year\n",
      "color\n",
      "Ford\n",
      "Mustang\n",
      "2020\n",
      "white\n"
     ]
    }
   ],
   "source": [
    "# print keys\n",
    "for x in thisdict:\n",
    "  print(x)\n",
    "\n",
    "# print values\n",
    "for x in thisdict:\n",
    "  print(thisdict[x])"
   ]
  },
  {
   "cell_type": "code",
   "execution_count": 47,
   "id": "c7bf59ce-3aac-4c79-96a9-d0d74c2e1eeb",
   "metadata": {},
   "outputs": [
    {
     "name": "stdout",
     "output_type": "stream",
     "text": [
      "brand Ford\n",
      "model Mustang\n",
      "year 2020\n",
      "color white\n"
     ]
    }
   ],
   "source": [
    "#Loop through both keys and values, by using the items() method:\n",
    "for x, y in thisdict.items():\n",
    "  print(x, y)\n"
   ]
  },
  {
   "cell_type": "code",
   "execution_count": 48,
   "id": "f747d815-fd8c-4088-8bd1-6c8c7864bc87",
   "metadata": {},
   "outputs": [
    {
     "name": "stdout",
     "output_type": "stream",
     "text": [
      "{'brand': 'Ford', 'model': 'Mustang', 'year': 1964}\n"
     ]
    }
   ],
   "source": [
    "# Make a copy of a dictionary with the copy() method:\n",
    "thisdict = {\n",
    "  \"brand\": \"Ford\",\n",
    "  \"model\": \"Mustang\",\n",
    "  \"year\": 1964\n",
    "}\n",
    "mydict = thisdict.copy()\n",
    "print(mydict)"
   ]
  },
  {
   "cell_type": "code",
   "execution_count": 49,
   "id": "2f7cc104-2032-40c0-93ec-e520531d3e5f",
   "metadata": {},
   "outputs": [
    {
     "name": "stdout",
     "output_type": "stream",
     "text": [
      "Tobias\n"
     ]
    }
   ],
   "source": [
    "# Nested Disctionaries\n",
    "child1 = {\n",
    "  \"name\" : \"Emil\",\n",
    "  \"year\" : 2004\n",
    "}\n",
    "child2 = {\n",
    "  \"name\" : \"Tobias\",\n",
    "  \"year\" : 2007\n",
    "}\n",
    "child3 = {\n",
    "  \"name\" : \"Linus\",\n",
    "  \"year\" : 2011\n",
    "}\n",
    "\n",
    "myfamily = {\n",
    "  \"child1\" : child1,\n",
    "  \"child2\" : child2,\n",
    "  \"child3\" : child3\n",
    "}\n",
    "\n",
    "print(myfamily[\"child2\"][\"name\"])"
   ]
  },
  {
   "cell_type": "code",
   "execution_count": 50,
   "id": "1f8b4d39-8cf6-43e4-9530-49cf7cc1a5f7",
   "metadata": {},
   "outputs": [
    {
     "name": "stdout",
     "output_type": "stream",
     "text": [
      "15\n"
     ]
    }
   ],
   "source": [
    "# A lambda function is a small anonymous function.\n",
    "# A lambda function can take any number of arguments, but can only have one expression.\n",
    "\n",
    "x = lambda a : a + 10\n",
    "print(x(5))\n",
    "\n"
   ]
  },
  {
   "cell_type": "code",
   "execution_count": 51,
   "id": "00d77122-fc1f-464f-a8bc-9a0355c9a38c",
   "metadata": {},
   "outputs": [
    {
     "name": "stdout",
     "output_type": "stream",
     "text": [
      "22\n"
     ]
    }
   ],
   "source": [
    "#The power of lambda is better shown when you use them as an anonymous function inside another function.\n",
    "\n",
    "# Say you have a function definition that takes one argument, and that argument will be multiplied with an unknown number: \n",
    "# which means you can define a dynamic function based on lambada expression which can take differnt fuctionality based on values and then called\n",
    "# for different inputs \n",
    "\n",
    "def myfunc(n):\n",
    "  return lambda a : a * n\n",
    "\n",
    "mydoubler = myfunc(2)\n",
    "\n",
    "print(mydoubler(11))\n"
   ]
  },
  {
   "cell_type": "code",
   "execution_count": 52,
   "id": "6d58612c-341c-44ce-b635-f997eee65bbf",
   "metadata": {},
   "outputs": [
    {
     "name": "stdout",
     "output_type": "stream",
     "text": [
      "[{7058: 'sravan', 7059: 'jyothika', 7072: 'harsha', 7075: 'deepika'}]\n",
      "1\n",
      "<class 'list'>\n"
     ]
    }
   ],
   "source": [
    "# list of dictionaries\n",
    "# create a list of dictionary with student\n",
    "# id as key and name as value\n",
    "data = [{7058: 'sravan', 7059: 'jyothika',\n",
    "         7072: 'harsha', 7075: 'deepika'}]\n",
    "\n",
    "# display data\n",
    "print(data)\n",
    "print(len(data))\n",
    "print(type(data))"
   ]
  },
  {
   "cell_type": "code",
   "execution_count": 53,
   "id": "0500a2d5-2587-4254-ad04-7beb77a13129",
   "metadata": {},
   "outputs": [
    {
     "name": "stdout",
     "output_type": "stream",
     "text": [
      "sravan\n"
     ]
    }
   ],
   "source": [
    "# display data of key 7058\n",
    "print(data[0][7058])"
   ]
  },
  {
   "cell_type": "code",
   "execution_count": 54,
   "id": "534bede7-0ae2-41bf-9cae-fecfe5fc82bd",
   "metadata": {},
   "outputs": [
    {
     "name": "stdout",
     "output_type": "stream",
     "text": [
      "[{1: 'Geeks', 2: 'GeeksforGeeks'}]\n",
      "[{1: 'Geeks', 2: 'GeeksforGeeks'}, {1: 'Python', 2: 'Programming'}]\n"
     ]
    }
   ],
   "source": [
    "\n",
    "\n",
    "# create a list of a dictionary\n",
    "# with single dictionary element\n",
    "data = [ {1: \"Geeks\", 2: \"GeeksforGeeks\"} ]\n",
    "print(data)\n",
    " \n",
    "# create a new dictionary to be appended\n",
    "new_data = {1: \"Python\", 2: \"Programming\"}\n",
    " \n",
    "# appending the new dictionary to\n",
    "# the original list of dictionary\n",
    "data.append(new_data)\n",
    "print(data)"
   ]
  },
  {
   "cell_type": "code",
   "execution_count": 55,
   "id": "fc7ffcb1-1cc5-448e-8b8c-a41b1eed27f3",
   "metadata": {},
   "outputs": [
    {
     "name": "stdout",
     "output_type": "stream",
     "text": [
      "[{'name': 'Bob', 'age': 30}, {'name': 'David', 'age': 35}]\n"
     ]
    }
   ],
   "source": [
    "# Filtering list dictionary example\n",
    "data = [\n",
    "    {'name': 'Alice', 'age': 25},\n",
    "    {'name': 'Bob', 'age': 30},\n",
    "    {'name': 'Charlie', 'age': 22},\n",
    "    {'name': 'David', 'age': 35}\n",
    "]\n",
    "\n",
    "filtered_data = []\n",
    "for entry in data:\n",
    "    if entry['age'] > 25:\n",
    "        filtered_data.append(entry)\n",
    " \n",
    "print(filtered_data)"
   ]
  },
  {
   "cell_type": "code",
   "execution_count": 56,
   "id": "96b2877d-7457-49f6-9427-60d313b5e573",
   "metadata": {},
   "outputs": [
    {
     "name": "stdout",
     "output_type": "stream",
     "text": [
      "[{'name': 'Bob', 'age': 30}, {'name': 'David', 'age': 35}]\n"
     ]
    }
   ],
   "source": [
    "# Filter List Of Dictionaries Based On Key Value Using the Filter Function\n",
    "# The filter function is a built-in Python function that constructs an iterator from elements of an iterable for which a function returns true. \n",
    "# To use it with a list of dictionaries, we need a filtering function. Here’s an example:\n",
    "\n",
    "# Filtering function\n",
    "def filter_by_age(entry):\n",
    "    return entry['age'] > 25\n",
    " \n",
    "# Using filter function\n",
    "filtered_data = list(filter(filter_by_age, data))\n",
    " \n",
    "print(filtered_data)"
   ]
  },
  {
   "cell_type": "code",
   "execution_count": 57,
   "id": "5c81976e-0f1a-422a-8620-179431163b05",
   "metadata": {},
   "outputs": [
    {
     "name": "stdout",
     "output_type": "stream",
     "text": [
      "30\n"
     ]
    }
   ],
   "source": [
    "#JSON\n",
    "#Convert from JSON to Python:\n",
    "import json\n",
    "\n",
    "# some JSON:\n",
    "x =  '{ \"name\":\"John\", \"age\":30, \"city\":\"New York\"}'\n",
    "\n",
    "# parse x:\n",
    "y = json.loads(x)\n",
    "\n",
    "# the result is a Python dictionary:\n",
    "print(y[\"age\"])"
   ]
  },
  {
   "cell_type": "code",
   "execution_count": 58,
   "id": "7d4d525f-a899-493a-b66d-e32588a55870",
   "metadata": {},
   "outputs": [
    {
     "name": "stdout",
     "output_type": "stream",
     "text": [
      "{\"name\": \"John\", \"age\": 30, \"city\": \"New York\"}\n"
     ]
    }
   ],
   "source": [
    "# Convert from Python to JSON:\n",
    "import json\n",
    "\n",
    "# a Python object (dict):\n",
    "x = {\n",
    "  \"name\": \"John\",\n",
    "  \"age\": 30,\n",
    "  \"city\": \"New York\"\n",
    "}\n",
    "\n",
    "# convert into JSON:\n",
    "y = json.dumps(x)\n",
    "\n",
    "# the result is a JSON string:\n",
    "print(y)"
   ]
  },
  {
   "cell_type": "code",
   "execution_count": 61,
   "id": "dfb0c997-b39e-4f5f-84e7-f5dbbfd3ae52",
   "metadata": {},
   "outputs": [
    {
     "name": "stdout",
     "output_type": "stream",
     "text": [
      "<re.Match object; span=(0, 17), match='The rain in Spain'>\n",
      "YES! We have a match!\n"
     ]
    }
   ],
   "source": [
    "# regex\n",
    "import re\n",
    "\n",
    "txt = \"The rain in Spain\"\n",
    "x = re.search(\"^The.*Spain$\", txt)\n",
    "print(x)\n",
    "\n",
    "if x:\n",
    "  print(\"YES! We have a match!\")\n",
    "else:\n",
    "  print(\"No match\")\n"
   ]
  },
  {
   "cell_type": "code",
   "execution_count": 62,
   "id": "93f40911-23fb-4c76-b1a0-e4039996ce68",
   "metadata": {},
   "outputs": [
    {
     "name": "stdout",
     "output_type": "stream",
     "text": [
      "['h', 'e', 'a', 'i', 'i', 'a', 'i']\n"
     ]
    }
   ],
   "source": [
    "#Find all lower case characters alphabetically between \"a\" and \"m\":\n",
    "\n",
    "x = re.findall(\"[a-m]\", txt)\n",
    "print(x)\n"
   ]
  },
  {
   "cell_type": "code",
   "execution_count": 64,
   "id": "1b8880f2-8423-448e-a824-b9a3bb050b94",
   "metadata": {},
   "outputs": [
    {
     "name": "stdout",
     "output_type": "stream",
     "text": [
      "Hello! Welcome to demofile.txt\n",
      "This file is for testing purposes.\n",
      "Good Luck!\n"
     ]
    }
   ],
   "source": [
    "# file handling \n",
    "\n",
    "f = open(\"demofile.txt\", \"r\")\n",
    "print(f.read())"
   ]
  },
  {
   "cell_type": "code",
   "execution_count": 65,
   "id": "ad83c5ca-0555-4bed-bd7e-46ca5420764c",
   "metadata": {},
   "outputs": [
    {
     "name": "stdout",
     "output_type": "stream",
     "text": [
      "Hello! Welcome to demofile.txt\n",
      "\n"
     ]
    }
   ],
   "source": [
    "f = open(\"demofile.txt\", \"r\")\n",
    "print(f.readline())"
   ]
  },
  {
   "cell_type": "code",
   "execution_count": 66,
   "id": "02806be2-2f4e-4d2c-a4fe-9a571862411f",
   "metadata": {},
   "outputs": [
    {
     "name": "stdout",
     "output_type": "stream",
     "text": [
      "Hello! Welcome to demofile.txt\n",
      "\n"
     ]
    }
   ],
   "source": [
    "f = open(\"demofile.txt\", \"r\")\n",
    "print(f.readline())\n",
    "f.close()"
   ]
  },
  {
   "cell_type": "code",
   "execution_count": 67,
   "id": "80672713-dbd8-4121-8036-08129c980bb0",
   "metadata": {},
   "outputs": [
    {
     "name": "stdout",
     "output_type": "stream",
     "text": [
      "Now the file has more content!\n"
     ]
    }
   ],
   "source": [
    "f = open(\"demofile2.txt\", \"a\")\n",
    "f.write(\"Now the file has more content!\")\n",
    "f.close()\n",
    "\n",
    "#open and read the file after the appending:\n",
    "f = open(\"demofile2.txt\", \"r\")\n",
    "print(f.read())"
   ]
  },
  {
   "cell_type": "code",
   "execution_count": 68,
   "id": "4867a38d-c25c-44c1-ae02-5f83f0d9b704",
   "metadata": {},
   "outputs": [
    {
     "name": "stdout",
     "output_type": "stream",
     "text": [
      "[1 2 3 4 5]\n"
     ]
    }
   ],
   "source": [
    "#numpy\n",
    "import numpy\n",
    "\n",
    "arr = numpy.array([1, 2, 3, 4, 5])\n",
    "\n",
    "print(arr)"
   ]
  },
  {
   "cell_type": "code",
   "execution_count": 69,
   "id": "09aeea68-a2f8-48b8-98f6-6828b0dca687",
   "metadata": {},
   "outputs": [
    {
     "name": "stdout",
     "output_type": "stream",
     "text": [
      "[42  2  3  4  5]\n",
      "[1 2 3 4 5]\n"
     ]
    }
   ],
   "source": [
    "import numpy as np\n",
    "\n",
    "arr = np.array([1, 2, 3, 4, 5])\n",
    "x = arr.copy()\n",
    "arr[0] = 42\n",
    "\n",
    "print(arr)\n",
    "print(x)"
   ]
  },
  {
   "cell_type": "code",
   "execution_count": 70,
   "id": "ac816106-a2cc-4d8a-b031-d0ed25f30e8a",
   "metadata": {},
   "outputs": [
    {
     "name": "stdout",
     "output_type": "stream",
     "text": [
      "(2, 4)\n"
     ]
    }
   ],
   "source": [
    "import numpy as np\n",
    "\n",
    "arr = np.array([[1, 2, 3, 4], [5, 6, 7, 8]])\n",
    "\n",
    "print(arr.shape)"
   ]
  },
  {
   "cell_type": "code",
   "execution_count": 71,
   "id": "df07b202-e324-48cc-8803-031e3e8e8260",
   "metadata": {},
   "outputs": [
    {
     "name": "stdout",
     "output_type": "stream",
     "text": [
      "[[ 1  2  3]\n",
      " [ 4  5  6]\n",
      " [ 7  8  9]\n",
      " [10 11 12]]\n"
     ]
    }
   ],
   "source": [
    "import numpy as np\n",
    "\n",
    "arr = np.array([1, 2, 3, 4, 5, 6, 7, 8, 9, 10, 11, 12])\n",
    "\n",
    "newarr = arr.reshape(4, 3)\n",
    "\n",
    "print(newarr)"
   ]
  },
  {
   "cell_type": "code",
   "execution_count": 72,
   "id": "ad1256d4-0a08-45b4-b335-d7954d723101",
   "metadata": {},
   "outputs": [
    {
     "name": "stdout",
     "output_type": "stream",
     "text": [
      "[[1 2 5 6]\n",
      " [3 4 7 8]]\n"
     ]
    }
   ],
   "source": [
    "#Join 2D array along x axis\n",
    "import numpy as np\n",
    "\n",
    "arr1 = np.array([[1, 2], [3, 4]])\n",
    "\n",
    "arr2 = np.array([[5, 6], [7, 8]])\n",
    "\n",
    "arr = np.concatenate((arr1, arr2), axis=1)\n",
    "\n",
    "print(arr)"
   ]
  },
  {
   "cell_type": "code",
   "execution_count": 73,
   "id": "e40f327d-4363-4f52-90e9-36029a72b6e7",
   "metadata": {},
   "outputs": [
    {
     "name": "stdout",
     "output_type": "stream",
     "text": [
      "[[1 4]\n",
      " [2 5]\n",
      " [3 6]]\n"
     ]
    }
   ],
   "source": [
    "# stack\n",
    "import numpy as np\n",
    "\n",
    "arr1 = np.array([1, 2, 3])\n",
    "\n",
    "arr2 = np.array([4, 5, 6])\n",
    "\n",
    "arr = np.stack((arr1, arr2), axis=1)\n",
    "\n",
    "print(arr)"
   ]
  },
  {
   "cell_type": "code",
   "execution_count": 74,
   "id": "c3dc7c75-0b12-4977-baed-f693208cb702",
   "metadata": {},
   "outputs": [
    {
     "name": "stdout",
     "output_type": "stream",
     "text": [
      "[False, False, True, True]\n",
      "[43 44]\n"
     ]
    }
   ],
   "source": [
    "# In NumPy, you filter an array using a boolean index list.\n",
    "import numpy as np\n",
    "\n",
    "arr = np.array([41, 42, 43, 44])\n",
    "\n",
    "# Create an empty list\n",
    "filter_arr = []\n",
    "\n",
    "# go through each element in arr\n",
    "for element in arr:\n",
    "  # if the element is higher than 42, set the value to True, otherwise False:\n",
    "  if element > 42:\n",
    "    filter_arr.append(True)\n",
    "  else:\n",
    "    filter_arr.append(False)\n",
    "\n",
    "newarr = arr[filter_arr]\n",
    "\n",
    "print(filter_arr)\n",
    "print(newarr)"
   ]
  },
  {
   "cell_type": "code",
   "execution_count": 1,
   "id": "63924b76-9a74-417c-b4f6-9d3a97cfa7e2",
   "metadata": {},
   "outputs": [
    {
     "name": "stdout",
     "output_type": "stream",
     "text": [
      "    cars  passings\n",
      "0    BMW         3\n",
      "1  Volvo         7\n",
      "2   Ford         2\n"
     ]
    }
   ],
   "source": [
    "# Pandas\n",
    "import pandas\n",
    "\n",
    "# dictionary with key and list\n",
    "mydataset = {\n",
    "  'cars': [\"BMW\", \"Volvo\", \"Ford\"],\n",
    "  'passings': [3, 7, 2]\n",
    "}\n",
    "\n",
    "# pandas will give Dataframe\n",
    "myvar = pandas.DataFrame(mydataset)\n",
    "\n",
    "print(myvar)"
   ]
  },
  {
   "cell_type": "code",
   "execution_count": 2,
   "id": "79137cf6-ac8b-4d11-967f-4917484cec80",
   "metadata": {},
   "outputs": [
    {
     "name": "stdout",
     "output_type": "stream",
     "text": [
      "0    1\n",
      "1    7\n",
      "2    2\n",
      "dtype: int64\n"
     ]
    }
   ],
   "source": [
    "import pandas as pd\n",
    "\n",
    "a = [1, 7, 2]\n",
    "\n",
    "myvar = pd.Series(a)\n",
    "\n",
    "print(myvar)"
   ]
  },
  {
   "cell_type": "code",
   "execution_count": 4,
   "id": "d0a43b46-48a9-4252-aeac-dc1001abd9dc",
   "metadata": {},
   "outputs": [
    {
     "name": "stdout",
     "output_type": "stream",
     "text": [
      "1\n",
      "7\n",
      "2\n"
     ]
    }
   ],
   "source": [
    "# print using index label when label is not specified\n",
    "print(myvar[0])\n",
    "print(myvar[1])\n",
    "print(myvar[2])\n"
   ]
  },
  {
   "cell_type": "code",
   "execution_count": 6,
   "id": "ab538647-c238-48be-8e33-f052407f579c",
   "metadata": {},
   "outputs": [
    {
     "name": "stdout",
     "output_type": "stream",
     "text": [
      "x    1\n",
      "y    7\n",
      "z    2\n",
      "dtype: int64\n"
     ]
    }
   ],
   "source": [
    "import pandas as pd\n",
    "\n",
    "a = [1, 7, 2]\n",
    "\n",
    "myvar = pd.Series(a, index = [\"x\", \"y\", \"z\"])\n",
    "\n",
    "# print with specified index label\n",
    "print(myvar)"
   ]
  },
  {
   "cell_type": "code",
   "execution_count": 7,
   "id": "14c65567-fe3b-4699-9e2d-bdbf645ba909",
   "metadata": {},
   "outputs": [
    {
     "name": "stdout",
     "output_type": "stream",
     "text": [
      "day1    420\n",
      "day2    380\n",
      "day3    390\n",
      "dtype: int64\n"
     ]
    }
   ],
   "source": [
    "# series from key val object, keys are treated as label\n",
    "import pandas as pd\n",
    "\n",
    "calories = {\"day1\": 420, \"day2\": 380, \"day3\": 390}\n",
    "\n",
    "myvar = pd.Series(calories)\n",
    "\n",
    "print(myvar)"
   ]
  },
  {
   "cell_type": "code",
   "execution_count": 10,
   "id": "38be3881-76bd-483e-a9df-4b7f663254ec",
   "metadata": {},
   "outputs": [
    {
     "name": "stdout",
     "output_type": "stream",
     "text": [
      "   calories  duration\n",
      "0       420        50\n",
      "1       380        40\n",
      "2       390        45\n"
     ]
    }
   ],
   "source": [
    "#Data sets in Pandas are usually multi-dimensional tables, called DataFrames.\n",
    "\n",
    "#Series is like a column, a DataFrame is the whole table.\n",
    "\n",
    "\n",
    "import pandas as pd\n",
    "\n",
    "data = {\n",
    "  \"calories\": [420, 380, 390],\n",
    "  \"duration\": [50, 40, 45]\n",
    "}\n",
    "\n",
    "df = pd.DataFrame(data)\n",
    "\n",
    "print(myvar)\n",
    "\n"
   ]
  },
  {
   "cell_type": "code",
   "execution_count": 11,
   "id": "affddcab-f1b9-4d2f-8d0f-a287b460e076",
   "metadata": {},
   "outputs": [
    {
     "name": "stdout",
     "output_type": "stream",
     "text": [
      "calories    420\n",
      "duration     50\n",
      "Name: 0, dtype: int64\n"
     ]
    }
   ],
   "source": [
    "#refer to the row index:\n",
    "print(df.loc[0])"
   ]
  },
  {
   "cell_type": "code",
   "execution_count": 13,
   "id": "666c3b42-80b2-4351-871d-7f9b1772b31a",
   "metadata": {},
   "outputs": [
    {
     "name": "stdout",
     "output_type": "stream",
     "text": [
      "      calories  duration\n",
      "day1       420        50\n",
      "day2       380        40\n",
      "day3       390        45\n",
      "calories    380\n",
      "duration     40\n",
      "Name: day2, dtype: int64\n"
     ]
    }
   ],
   "source": [
    "import pandas as pd\n",
    "\n",
    "data = {\n",
    "  \"calories\": [420, 380, 390],\n",
    "  \"duration\": [50, 40, 45]\n",
    "}\n",
    "\n",
    "df = pd.DataFrame(data, index = [\"day1\", \"day2\", \"day3\"])\n",
    "\n",
    "print(df) \n",
    "\n",
    "#refer to the named index:\n",
    "print(df.loc[\"day2\"])"
   ]
  },
  {
   "cell_type": "code",
   "execution_count": 14,
   "id": "a5f7f919-c590-4026-aacd-a295202637c0",
   "metadata": {},
   "outputs": [
    {
     "name": "stdout",
     "output_type": "stream",
     "text": [
      "   Duration  Pulse  Maxpulse  Calories\n",
      "0        60    110       130     409.1\n",
      "1        60    117       145     479.0\n",
      "2        60    103       135     340.0\n",
      "3        45    109       175     282.4\n",
      "4        45    117       148     406.0\n"
     ]
    }
   ],
   "source": [
    "#load csv using pandas\n",
    "import pandas as pd\n",
    "\n",
    "df = pd.read_csv('data.csv')\n",
    "\n",
    "print(df)"
   ]
  },
  {
   "cell_type": "code",
   "execution_count": 16,
   "id": "fe586997-974f-49b1-80fc-2cfb10c822c0",
   "metadata": {},
   "outputs": [
    {
     "name": "stdout",
     "output_type": "stream",
     "text": [
      "     Duration  Pulse  Maxpulse  Calories\n",
      "0          60    110       130     409.1\n",
      "1          60    117       145     479.0\n",
      "2          60    103       135     340.0\n",
      "3          45    109       175     282.4\n",
      "4          45    117       148     406.0\n",
      "5          60    102       127     300.5\n",
      "6          60    110       136     374.0\n",
      "7          45    104       134     253.3\n",
      "8          30    109       133     195.1\n",
      "9          60     98       124     269.0\n",
      "10         60    103       147     329.3\n",
      "11         60    100       120     250.7\n",
      "12         60    106       128     345.3\n",
      "13         60    104       132     379.3\n",
      "14         60     98       123     275.0\n",
      "15         60     98       120     215.2\n",
      "16         60    100       120     300.0\n",
      "17         45     90       112       NaN\n",
      "18         60    103       123     323.0\n",
      "19         45     97       125     243.0\n",
      "20         60    108       131     364.2\n",
      "21         45    100       119     282.0\n",
      "22         60    130       101     300.0\n",
      "23         45    105       132     246.0\n",
      "24         60    102       126     334.5\n",
      "25         60    100       120     250.0\n",
      "26         60     92       118     241.0\n",
      "27         60    103       132       NaN\n",
      "28         60    100       132     280.0\n",
      "29         60    102       129     380.3\n",
      "30         60     92       115     243.0\n",
      "31         45     90       112     180.1\n",
      "32         60    101       124     299.0\n",
      "33         60     93       113     223.0\n",
      "34         60    107       136     361.0\n",
      "35         60    114       140     415.0\n",
      "36         60    102       127     300.5\n",
      "37         60    100       120     300.1\n",
      "38         60    100       120     300.0\n",
      "39         45    104       129     266.0\n",
      "40         45     90       112     180.1\n",
      "41         60     98       126     286.0\n",
      "42         60    100       122     329.4\n",
      "43         60    111       138     400.0\n",
      "44         60    111       131     397.0\n",
      "45         60     99       119     273.0\n",
      "46         60    109       153     387.6\n",
      "47         45    111       136     300.0\n",
      "48         45    108       129     298.0\n",
      "49         60    111       139     397.6\n",
      "50         60    107       136     380.2\n",
      "51         80    123       146     643.1\n",
      "52         60    106       130     263.0\n",
      "53         60    118       151     486.0\n",
      "54         30    136       175     238.0\n",
      "55         60    121       146     450.7\n",
      "56         60    118       121     413.0\n",
      "57         45    115       144     305.0\n",
      "58         20    153       172     226.4\n",
      "59         45    123       152     321.0\n",
      "60        210    108       160    1376.0\n",
      "61        160    110       137    1034.4\n",
      "62        160    109       135     853.0\n",
      "63         45    118       141     341.0\n",
      "64         20    110       130     131.4\n",
      "65        180     90       130     800.4\n",
      "66        150    105       135     873.4\n",
      "67        150    107       130     816.0\n",
      "68         20    106       136     110.4\n",
      "69        300    108       143    1500.2\n",
      "70        150     97       129    1115.0\n",
      "71         60    109       153     387.6\n",
      "72         90    100       127     700.0\n",
      "73        150     97       127     953.2\n",
      "74         45    114       146     304.0\n",
      "75         90     98       125     563.2\n",
      "76         45    105       134     251.0\n",
      "77         45    110       141     300.0\n",
      "78        120    100       130     500.4\n",
      "79        270    100       131    1729.0\n",
      "80         30    159       182     319.2\n",
      "81         45    149       169     344.0\n",
      "82         30    103       139     151.1\n",
      "83        120    100       130     500.0\n",
      "84         45    100       120     225.3\n",
      "85         30    151       170     300.1\n",
      "86         45    102       136     234.0\n",
      "87        120    100       157    1000.1\n",
      "88         45    129       103     242.0\n",
      "89         20     83       107      50.3\n",
      "90        180    101       127     600.1\n",
      "91         45    107       137       NaN\n",
      "92         30     90       107     105.3\n",
      "93         15     80       100      50.5\n",
      "94         20    150       171     127.4\n",
      "95         20    151       168     229.4\n",
      "96         30     95       128     128.2\n",
      "97         25    152       168     244.2\n",
      "98         30    109       131     188.2\n",
      "99         90     93       124     604.1\n",
      "100        20     95       112      77.7\n",
      "101        90     90       110     500.0\n",
      "102        90     90       100     500.0\n",
      "103        90     90       100     500.4\n",
      "104        30     92       108      92.7\n",
      "105        30     93       128     124.0\n",
      "106       180     90       120     800.3\n",
      "107        30     90       120      86.2\n",
      "108        90     90       120     500.3\n",
      "109       210    137       184    1860.4\n",
      "110        60    102       124     325.2\n",
      "111        45    107       124     275.0\n",
      "112        15    124       139     124.2\n",
      "113        45    100       120     225.3\n",
      "114        60    108       131     367.6\n",
      "115        60    108       151     351.7\n",
      "116        60    116       141     443.0\n",
      "117        60     97       122     277.4\n",
      "118        60    105       125       NaN\n",
      "119        60    103       124     332.7\n",
      "120        30    112       137     193.9\n",
      "121        45    100       120     100.7\n",
      "122        60    119       169     336.7\n",
      "123        60    107       127     344.9\n",
      "124        60    111       151     368.5\n",
      "125        60     98       122     271.0\n",
      "126        60     97       124     275.3\n",
      "127        60    109       127     382.0\n",
      "128        90     99       125     466.4\n",
      "129        60    114       151     384.0\n",
      "130        60    104       134     342.5\n",
      "131        60    107       138     357.5\n",
      "132        60    103       133     335.0\n",
      "133        60    106       132     327.5\n",
      "134        60    103       136     339.0\n",
      "135        20    136       156     189.0\n",
      "136        45    117       143     317.7\n",
      "137        45    115       137     318.0\n",
      "138        45    113       138     308.0\n",
      "139        20    141       162     222.4\n",
      "140        60    108       135     390.0\n",
      "141        60     97       127       NaN\n",
      "142        45    100       120     250.4\n",
      "143        45    122       149     335.4\n",
      "144        60    136       170     470.2\n",
      "145        45    106       126     270.8\n",
      "146        60    107       136     400.0\n",
      "147        60    112       146     361.9\n",
      "148        30    103       127     185.0\n",
      "149        60    110       150     409.4\n",
      "150        60    106       134     343.0\n",
      "151        60    109       129     353.2\n",
      "152        60    109       138     374.0\n",
      "153        30    150       167     275.8\n",
      "154        60    105       128     328.0\n",
      "155        60    111       151     368.5\n",
      "156        60     97       131     270.4\n",
      "157        60    100       120     270.4\n",
      "158        60    114       150     382.8\n",
      "159        30     80       120     240.9\n",
      "160        30     85       120     250.4\n",
      "161        45     90       130     260.4\n",
      "162        45     95       130     270.0\n",
      "163        45    100       140     280.9\n",
      "164        60    105       140     290.8\n",
      "165        60    110       145     300.4\n",
      "166        60    115       145     310.2\n",
      "167        75    120       150     320.4\n",
      "168        75    125       150     330.4\n"
     ]
    }
   ],
   "source": [
    "import pandas as pd\n",
    "\n",
    "df = pd.read_json('data.json')\n",
    "\n",
    "print(df.to_string()) "
   ]
  },
  {
   "cell_type": "code",
   "execution_count": 17,
   "id": "77c5b4c5-29f6-4011-bc92-86bd42fd7aa5",
   "metadata": {},
   "outputs": [
    {
     "name": "stdout",
     "output_type": "stream",
     "text": [
      "   Duration  Pulse  Maxpulse  Calories\n",
      "0        60    110       130       409\n",
      "1        60    117       145       479\n",
      "2        60    103       135       340\n",
      "3        45    109       175       282\n",
      "4        45    117       148       406\n",
      "5        60    102       127       300\n"
     ]
    }
   ],
   "source": [
    "import pandas as pd\n",
    "\n",
    "data = {\n",
    "  \"Duration\":{\n",
    "    \"0\":60,\n",
    "    \"1\":60,\n",
    "    \"2\":60,\n",
    "    \"3\":45,\n",
    "    \"4\":45,\n",
    "    \"5\":60\n",
    "  },\n",
    "  \"Pulse\":{\n",
    "    \"0\":110,\n",
    "    \"1\":117,\n",
    "    \"2\":103,\n",
    "    \"3\":109,\n",
    "    \"4\":117,\n",
    "    \"5\":102\n",
    "  },\n",
    "  \"Maxpulse\":{\n",
    "    \"0\":130,\n",
    "    \"1\":145,\n",
    "    \"2\":135,\n",
    "    \"3\":175,\n",
    "    \"4\":148,\n",
    "    \"5\":127\n",
    "  },\n",
    "  \"Calories\":{\n",
    "    \"0\":409,\n",
    "    \"1\":479,\n",
    "    \"2\":340,\n",
    "    \"3\":282,\n",
    "    \"4\":406,\n",
    "    \"5\":300\n",
    "  }\n",
    "}\n",
    "\n",
    "df = pd.DataFrame(data)\n",
    "\n",
    "print(df) "
   ]
  },
  {
   "cell_type": "code",
   "execution_count": null,
   "id": "39994781-3154-44cd-8b7c-77dc35877390",
   "metadata": {},
   "outputs": [],
   "source": []
  }
 ],
 "metadata": {
  "kernelspec": {
   "display_name": "Python 3 (ipykernel)",
   "language": "python",
   "name": "python3"
  },
  "language_info": {
   "codemirror_mode": {
    "name": "ipython",
    "version": 3
   },
   "file_extension": ".py",
   "mimetype": "text/x-python",
   "name": "python",
   "nbconvert_exporter": "python",
   "pygments_lexer": "ipython3",
   "version": "3.9.6"
  }
 },
 "nbformat": 4,
 "nbformat_minor": 5
}
